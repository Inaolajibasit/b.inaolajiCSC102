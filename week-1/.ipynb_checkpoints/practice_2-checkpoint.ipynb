{
 "cells": [
  {
   "cell_type": "code",
   "execution_count": 2,
   "id": "4f837192",
   "metadata": {},
   "outputs": [
    {
     "name": "stdout",
     "output_type": "stream",
     "text": [
      "Hi my name is Gina, I am a string\n",
      "<class 'str'>\n",
      "Hi my name is Ifunaya, I am also a string\n",
      "<class 'str'>\n"
     ]
    }
   ],
   "source": [
    "#phyton program to print string and type \n",
    "str1 = \"Hi my name is Gina, I am a string\"\n",
    "str2 = \"Hi my name is Ifunaya, I am also a string\"\n",
    "\n",
    "#display string1 and its type\n",
    "print(str1)\n",
    "print(type(str1))\n",
    "\n",
    "#display string2 and its type\n",
    "print(str2)\n",
    "print(type(str2))\n"
   ]
  },
  {
   "cell_type": "code",
   "execution_count": null,
   "id": "43ea7762",
   "metadata": {},
   "outputs": [],
   "source": []
  }
 ],
 "metadata": {
  "kernelspec": {
   "display_name": "Python 3 (ipykernel)",
   "language": "python",
   "name": "python3"
  },
  "language_info": {
   "codemirror_mode": {
    "name": "ipython",
    "version": 3
   },
   "file_extension": ".py",
   "mimetype": "text/x-python",
   "name": "python",
   "nbconvert_exporter": "python",
   "pygments_lexer": "ipython3",
   "version": "3.10.9"
  }
 },
 "nbformat": 4,
 "nbformat_minor": 5
}
