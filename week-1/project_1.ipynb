{
 "cells": [
  {
   "cell_type": "code",
   "execution_count": 4,
   "id": "bfdaff86",
   "metadata": {},
   "outputs": [
    {
     "name": "stdout",
     "output_type": "stream",
     "text": [
      "pls enter your PRINCIPAL10000000\n",
      "10000000.0\n",
      "pls enter your RATE2\n",
      "2.0 %\n",
      "pls enter your TIME4\n",
      "4.0 years\n",
      "your simple interest is  800000.0\n"
     ]
    }
   ],
   "source": [
    "#python program to calculate simple interest\n",
    "principal = float(input(\"pls enter your PRINCIPAL  \"))\n",
    "print(principal, \"Naira\")\n",
    "\n",
    "rate = float(input(\"pls enter your RATE  \"))\n",
    "print(rate ,\"%\")\n",
    "\n",
    "time = float(input(\"pls enter your TIME  \"))\n",
    "print(time, \"years\")\n",
    "\n",
    "evalu = (principal * rate * time) / 100\n",
    "print(\"your simple interest is \", evalu, \"Naira\")"
   ]
  },
  {
   "cell_type": "code",
   "execution_count": 5,
   "id": "539c35ba",
   "metadata": {},
   "outputs": [
    {
     "name": "stdout",
     "output_type": "stream",
     "text": [
      "pls enter your PRINCIPAL10\n",
      "10.0 Naira\n",
      "pls enter your RATE2\n",
      "2.0 %\n",
      "pls enter your Number of time you want it to compound12\n",
      "12.0 time is compounds \n",
      "pls enter your TIME5\n",
      "5.0 years\n",
      "your compund interest is  11.050789265308222 Naira\n"
     ]
    }
   ],
   "source": [
    "#python program to calculate compound interest\n",
    "principal = float(input(\"pls enter your PRINCIPAL\"))\n",
    "print(principal, \"Naira\")\n",
    "\n",
    "rate = float(input(\"pls enter your RATE\"))\n",
    "print(rate ,\"%\")\n",
    "\n",
    "number = float(input(\"pls enter your Number of time you want it to compound\"))\n",
    "print(number ,\"time is compounds \")\n",
    "\n",
    "time = float(input(\"pls enter your TIME\"))\n",
    "print(time, \"years\")\n",
    "\n",
    "evalu = principal * (1 + ( (rate / 100) / number) )  ** (number * time)\n",
    "print(\"your compund interest is \", evalu, \"Naira\")"
   ]
  },
  {
   "cell_type": "code",
   "execution_count": 6,
   "id": "c64b7af8",
   "metadata": {},
   "outputs": [
    {
     "name": "stdout",
     "output_type": "stream",
     "text": [
      "pls enter your PMT10000000\n",
      "10.0 Naira\n",
      "pls enter your RATE5\n",
      "5.0 %\n",
      "pls enter your Number of time you want it to compound12\n",
      "12.0 time is compounds \n",
      "pls enter your TIME10\n",
      "10.0 years\n",
      "your compund interest is  1552822794.456672 Naira\n"
     ]
    }
   ],
   "source": [
    "#python program to calculate Annuity Plan\n",
    "pmt = float(input(\"pls enter your PMT\"))\n",
    "print(principal, \"Naira\")\n",
    "\n",
    "rate = float(input(\"pls enter your RATE\"))\n",
    "print(rate ,\"%\")\n",
    "\n",
    "number = float(input(\"pls enter your Number of time you want it to compound\"))\n",
    "print(number ,\"time is compounds \")\n",
    "\n",
    "time = float(input(\"pls enter your TIME\"))\n",
    "print(time, \"years\")\n",
    "\n",
    "e = ((1 + ( (rate / 100) / number) )  ** (number * time)) - 1\n",
    "v = e / ((rate / 100) / number)\n",
    "a = pmt * v\n",
    "\n",
    "\n",
    "print(\"your Annuity Plan is \", a, \"Naira\")"
   ]
  }
 ],
 "metadata": {
  "kernelspec": {
   "display_name": "Python 3 (ipykernel)",
   "language": "python",
   "name": "python3"
  },
  "language_info": {
   "codemirror_mode": {
    "name": "ipython",
    "version": 3
   },
   "file_extension": ".py",
   "mimetype": "text/x-python",
   "name": "python",
   "nbconvert_exporter": "python",
   "pygments_lexer": "ipython3",
   "version": "3.10.9"
  }
 },
 "nbformat": 4,
 "nbformat_minor": 5
}
