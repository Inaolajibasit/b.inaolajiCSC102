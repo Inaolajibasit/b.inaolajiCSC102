{
 "cells": [
  {
   "cell_type": "code",
   "execution_count": 3,
   "id": "579566fa",
   "metadata": {},
   "outputs": [
    {
     "name": "stdout",
     "output_type": "stream",
     "text": [
      "100\n",
      "the variable type is <class 'int'>\n",
      "10.2\n",
      "the variable type is <class 'float'>\n",
      "(3+4j)\n",
      "the variable type is <class 'complex'>\n"
     ]
    }
   ],
   "source": [
    "#Number Number\n",
    "num = 100\n",
    "print(num)\n",
    "print(\"the variable type is\", type(num))\n",
    "\n",
    "#Float Number\n",
    "fnum = 10.20\n",
    "print(fnum)\n",
    "print(\"the variable type is\", type(fnum))\n",
    "\n",
    "#complex Number\n",
    "cnum = 3 + 4j\n",
    "print(cnum)\n",
    "print(\"the variable type is\", type(cnum))"
   ]
  },
  {
   "cell_type": "code",
   "execution_count": null,
   "id": "503beb84",
   "metadata": {},
   "outputs": [],
   "source": []
  }
 ],
 "metadata": {
  "kernelspec": {
   "display_name": "Python 3 (ipykernel)",
   "language": "python",
   "name": "python3"
  },
  "language_info": {
   "codemirror_mode": {
    "name": "ipython",
    "version": 3
   },
   "file_extension": ".py",
   "mimetype": "text/x-python",
   "name": "python",
   "nbconvert_exporter": "python",
   "pygments_lexer": "ipython3",
   "version": "3.10.9"
  }
 },
 "nbformat": 4,
 "nbformat_minor": 5
}
