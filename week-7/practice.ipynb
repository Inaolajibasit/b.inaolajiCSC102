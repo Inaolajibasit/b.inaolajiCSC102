{
 "cells": [
  {
   "cell_type": "code",
   "execution_count": 3,
   "id": "0fa98495",
   "metadata": {},
   "outputs": [
    {
     "name": "stdout",
     "output_type": "stream",
     "text": [
      "heyy guys\n",
      "Lets go the club\n"
     ]
    }
   ],
   "source": [
    "def printme(str):\n",
    "    #this is a print function\n",
    "    print(str)\n",
    "\n",
    "printme(\"heyy guys\")    \n",
    "printme(\"Lets go the club\")    "
   ]
  },
  {
   "cell_type": "code",
   "execution_count": 5,
   "id": "d5e63ca3",
   "metadata": {},
   "outputs": [
    {
     "name": "stdout",
     "output_type": "stream",
     "text": [
      "Valuse inside the function [10, 20, 30, [1, 2, 3, 4]]\n",
      "Valuse outside the function [10, 20, 30, [1, 2, 3, 4]]\n"
     ]
    }
   ],
   "source": [
    "def changeme(mylist):\n",
    "    #this changes a passed list\n",
    "    mylist.append([1,2,3,4])\n",
    "    print(\"Valuse inside the function\", mylist)\n",
    "    return\n",
    "mylist = [10,20,30]\n",
    "changeme(mylist)\n",
    "print(\"Valuse outside the function\", mylist)"
   ]
  },
  {
   "cell_type": "code",
   "execution_count": 6,
   "id": "97401fcf",
   "metadata": {},
   "outputs": [
    {
     "name": "stdout",
     "output_type": "stream",
     "text": [
      "Valuse inside the function [1, 2, 3, 4]\n",
      "Valuse outside the function [10, 20, 30]\n"
     ]
    }
   ],
   "source": [
    "def changeme(mylist):\n",
    "    #this changes a passed list\n",
    "    mylist = [1,2,3,4]\n",
    "    print(\"Valuse inside the function\", mylist)\n",
    "    return\n",
    "mylist = [10,20,30]\n",
    "changeme(mylist)\n",
    "print(\"Valuse outside the function\", mylist)"
   ]
  },
  {
   "cell_type": "code",
   "execution_count": 13,
   "id": "d9a77e57",
   "metadata": {},
   "outputs": [
    {
     "name": "stdout",
     "output_type": "stream",
     "text": [
      "benson\n"
     ]
    }
   ],
   "source": [
    "def printme(str):\n",
    "    #this is a passed String\n",
    "    print(str)\n",
    "    return\n",
    "printme(str = 'benson')"
   ]
  },
  {
   "cell_type": "code",
   "execution_count": 18,
   "id": "316773f6",
   "metadata": {},
   "outputs": [
    {
     "name": "stdout",
     "output_type": "stream",
     "text": [
      "Name:  basit\n",
      "age 20\n"
     ]
    }
   ],
   "source": [
    "def printinfo(name, age):\n",
    "    #test function\n",
    "    print(\"Name: \", name)\n",
    "    print(\"age\", age)\n",
    "    return\n",
    "printinfo(age = 20, name = \"basit\")"
   ]
  },
  {
   "cell_type": "code",
   "execution_count": 19,
   "id": "f59ba364",
   "metadata": {},
   "outputs": [
    {
     "name": "stdout",
     "output_type": "stream",
     "text": [
      "Name:  basit\n",
      "age 20\n",
      "Name:  basit\n",
      "age 15\n"
     ]
    }
   ],
   "source": [
    "def printinfo(name, age = 15):\n",
    "    #test function\n",
    "    print(\"Name: \", name)\n",
    "    print(\"age\", age)\n",
    "    return\n",
    "printinfo(age = 20, name = \"basit\")\n",
    "printinfo( name = \"basit\")"
   ]
  },
  {
   "cell_type": "code",
   "execution_count": 27,
   "id": "73558b0a",
   "metadata": {},
   "outputs": [
    {
     "name": "stdout",
     "output_type": "stream",
     "text": [
      "Output is :\n",
      "10\n",
      "Output is :\n",
      "1\n",
      "2\n"
     ]
    }
   ],
   "source": [
    "def printinfo(arg1, *vartuple):\n",
    "    #This is test\n",
    "    print (\"Output is :\")\n",
    "    print(arg1)\n",
    "    for var in vartuple:\n",
    "        print(var)\n",
    "        return\n",
    "printinfo(10)    \n",
    "printinfo(1,2,3,4,5,6)"
   ]
  },
  {
   "cell_type": "code",
   "execution_count": 30,
   "id": "0ba0781e",
   "metadata": {},
   "outputs": [
    {
     "name": "stdout",
     "output_type": "stream",
     "text": [
      "inside the function the local total: 40\n",
      "outside the function the global total: 50\n"
     ]
    }
   ],
   "source": [
    "total = 50 # this is global\n",
    "def sum(arg1, arg2):\n",
    "    #ADD both the parameters\n",
    "    total = arg1 + arg2\n",
    "    print(\"inside the function the local total:\", total)\n",
    "    return total\n",
    "#Call sum function\n",
    "sum(10, 30)\n",
    "print(\"outside the function the global total:\", total)"
   ]
  },
  {
   "cell_type": "code",
   "execution_count": 32,
   "id": "59bf5377",
   "metadata": {},
   "outputs": [
    {
     "name": "stdout",
     "output_type": "stream",
     "text": [
      "Benson Dave basit gina\n"
     ]
    }
   ],
   "source": [
    "def swap(x, y):\n",
    "    global a\n",
    "    a = \"Benson\"\n",
    "    x,y = x,y\n",
    "    b = \"Chris\"\n",
    "    b = \"Dave\"\n",
    "    c = \"Lola\"\n",
    "    print(a,b,x,y)\n",
    "    a = \"mary\"\n",
    "swap(\"basit\", \"gina\")    "
   ]
  }
 ],
 "metadata": {
  "kernelspec": {
   "display_name": "Python 3 (ipykernel)",
   "language": "python",
   "name": "python3"
  },
  "language_info": {
   "codemirror_mode": {
    "name": "ipython",
    "version": 3
   },
   "file_extension": ".py",
   "mimetype": "text/x-python",
   "name": "python",
   "nbconvert_exporter": "python",
   "pygments_lexer": "ipython3",
   "version": "3.10.9"
  }
 },
 "nbformat": 4,
 "nbformat_minor": 5
}
