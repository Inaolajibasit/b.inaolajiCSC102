{
 "cells": [
  {
   "cell_type": "code",
   "execution_count": 30,
   "id": "e291e085",
   "metadata": {},
   "outputs": [
    {
     "name": "stdout",
     "output_type": "stream",
     "text": [
      "Enter your surname: GIWA\n",
      "Enter your lastName: Moyosore\n",
      "Enter your Department: Logistics\n",
      "yay\n",
      "Welcome GIWA Moyosore to the Logistics Department\n"
     ]
    }
   ],
   "source": [
    "import pandas as pd\n",
    "#input the name \n",
    "surname = str(input(\"Enter your surname: \"))\n",
    "lastname = str(input(\"Enter your lastName: \"))\n",
    "#input the department \n",
    "dep = str(input(\"Enter your Department: \"))\n",
    "\n",
    "# reading data frame from csv file\n",
    "staff = pd.read_csv(\"jt-ventures.csv\")\n",
    "    \n",
    "for i in staff.index:\n",
    "    fname = staff['SURNAME'][i]\n",
    "    lname = staff['FIRST NAME'][i]\n",
    "    dept = staff['DEPARTMENT'][i]\n",
    "    #print(dept)\n",
    "    if surname == fname and lastname == lname and dep == dept:\n",
    "        print(\"yay\")\n",
    "        print(f\"Welcome {surname} {lastname} to the {dep} Department\")\n",
    "        \n",
    "        \n",
    "        \n"
   ]
  },
  {
   "cell_type": "code",
   "execution_count": 34,
   "id": "e62126d0",
   "metadata": {},
   "outputs": [
    {
     "name": "stdout",
     "output_type": "stream",
     "text": [
      "the weight of the goods in kilogram: 2\n",
      "Are you in ibeju-lekki\"lekki\" or Epe \n",
      "Enter your location: epe\n",
      "Based on your location and weight the price for the dilevery is 1500 Naira\n",
      "the price for the dilevery is 4000 Naira\n"
     ]
    }
   ],
   "source": [
    "#Second project\n",
    "weight = float(input(\"the weight of the goods in kilogram: \"))\n",
    "print('Are you in ibeju-lekki\"lekki\" or Epe ')\n",
    "location = str(input(\"Enter your location: \"))\n",
    "#for lekki and 10 kg heavy\n",
    "if weight >= 10.0 and location == \"lekki\":\n",
    "    price = 2000\n",
    "    print(f\"Based on your location and weight the price for the dilevery is {price} Naira\")\n",
    "else:\n",
    "    price = 1500\n",
    "    print(f\"Based on your location and weight the price for the dilevery is {price} Naira\")\n",
    "#for epe and 10 kg heavy\n",
    "if weight >= 10.0 and location == \"epe\":\n",
    "    price = 5000\n",
    "    print(f\"Based on your location and weight the price for the dilevery is {price} Naira\")\n",
    "else:\n",
    "    price = 4000\n",
    "    print(f\"the price for the dilevery is {price} Naira\")\n"
   ]
  },
  {
   "cell_type": "code",
   "execution_count": 50,
   "id": "f2f03921",
   "metadata": {},
   "outputs": [
    {
     "name": "stdout",
     "output_type": "stream",
     "text": [
      "Enter your name: absot\n",
      "Enter your jamb Score: 12\n",
      "did you pass the interview: no\n",
      "Enter your grades\n",
      "Mathematics: f\n",
      "English : ff\n",
      "Chemistry: f\n",
      "Physics: f\n",
      "Civic: f\n",
      "You Failed a subject, NOT ADMITTED\n",
      "You passed a subject, ADMITTED\n",
      "You Failed a subject, NOT ADMITTED\n",
      "You Failed a subject, NOT ADMITTED\n",
      "You Failed a subject, NOT ADMITTED\n"
     ]
    }
   ],
   "source": [
    "import pandas as pd\n",
    "name = str(input(\"Enter your name: \"))\n",
    "jamb = int(input(\"Enter your jamb Score: \"))\n",
    "interview = str(input(\"did you pass the interview: \"))\n",
    "print('Enter your grades')\n",
    "g1 = input(\"Mathematics: \")\n",
    "g2 = input(\"English : \")\n",
    "g3 = input(\"Chemistry: \")\n",
    "g4 = input(\"Physics: \")\n",
    "g5 = input(\"Civic: \")\n",
    "grade = {\n",
    "    \"math: \": g1,\n",
    "    \"english: \": g2,\n",
    "    \"chemistry: \": g3,\n",
    "    \"physics: \": g4,\n",
    "    \"civic: \": g5,\n",
    "}\n",
    "\n",
    "def admitted(name, jamb, interview, grade):\n",
    "    student = {\n",
    "        'name: ': name,\n",
    "        'Jamb Score: ' : jamb,\n",
    "        'Interview: ' : interview,\n",
    "        'Grade:': grade\n",
    "    }\n",
    "    df = pd.DataFrame(student)\n",
    "    df.to_csv('admitted.csv')\n",
    "    return\n",
    "\n",
    "def not_admitted(name, jamb, interview, grade):\n",
    "    student = {\n",
    "        'name: ': name,\n",
    "        'Jamb Score: ' : jamb,\n",
    "        'Interview: ' : interview,\n",
    "        'Grade:': grade\n",
    "    }\n",
    "    df = pd.DataFrame(student)\n",
    "    df.to_csv('not_admitted.csv')\n",
    "    return\n",
    "\n",
    "    \n",
    "    \n",
    "\n",
    "for i in grade:\n",
    "    val = grade[i]\n",
    "    if val == 'f' or val == 'd' and jamb <= 240 and interview == 'no':\n",
    "        print(\"You Failed a subject, NOT ADMITTED\")\n",
    "        not_admitted(name, jamb, interview, grade)\n",
    "    else:\n",
    "        print(\"You passed a subject, ADMITTED\")\n",
    "        admitted(name, jamb, interview, grade)\n",
    "\n",
    "#print(grade)"
   ]
  }
 ],
 "metadata": {
  "kernelspec": {
   "display_name": "Python 3 (ipykernel)",
   "language": "python",
   "name": "python3"
  },
  "language_info": {
   "codemirror_mode": {
    "name": "ipython",
    "version": 3
   },
   "file_extension": ".py",
   "mimetype": "text/x-python",
   "name": "python",
   "nbconvert_exporter": "python",
   "pygments_lexer": "ipython3",
   "version": "3.10.9"
  }
 },
 "nbformat": 4,
 "nbformat_minor": 5
}
