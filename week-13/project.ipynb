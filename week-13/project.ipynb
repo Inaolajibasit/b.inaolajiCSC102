{
 "cells": [
  {
   "cell_type": "code",
   "execution_count": 23,
   "id": "370716b1",
   "metadata": {},
   "outputs": [
    {
     "name": "stdout",
     "output_type": "stream",
     "text": [
      "student  1\n",
      "Enter your name: basit\n",
      "Enter your Matric Number: 232323222\n",
      "Enter your Department: comp\n",
      "Enter your Level: 100\n",
      "student  2\n",
      "Enter your name: dave\n",
      "Enter your Matric Number: 49949949494949\n",
      "Enter your Department: mech\n",
      "Enter your Level: 200\n",
      "{'name': ['dave'], 'Matric': [49949949494949], 'Department': ['mech'], 'Level': [200]}\n"
     ]
    },
    {
     "data": {
      "text/html": [
       "<div>\n",
       "<style scoped>\n",
       "    .dataframe tbody tr th:only-of-type {\n",
       "        vertical-align: middle;\n",
       "    }\n",
       "\n",
       "    .dataframe tbody tr th {\n",
       "        vertical-align: top;\n",
       "    }\n",
       "\n",
       "    .dataframe thead th {\n",
       "        text-align: right;\n",
       "    }\n",
       "</style>\n",
       "<table border=\"1\" class=\"dataframe\">\n",
       "  <thead>\n",
       "    <tr style=\"text-align: right;\">\n",
       "      <th></th>\n",
       "      <th>name</th>\n",
       "      <th>Matric</th>\n",
       "      <th>Department</th>\n",
       "      <th>Level</th>\n",
       "    </tr>\n",
       "  </thead>\n",
       "  <tbody>\n",
       "    <tr>\n",
       "      <th>0</th>\n",
       "      <td>dave</td>\n",
       "      <td>49949949494949</td>\n",
       "      <td>mech</td>\n",
       "      <td>200</td>\n",
       "    </tr>\n",
       "  </tbody>\n",
       "</table>\n",
       "</div>"
      ],
      "text/plain": [
       "   name          Matric Department  Level\n",
       "0  dave  49949949494949       mech    200"
      ]
     },
     "execution_count": 23,
     "metadata": {},
     "output_type": "execute_result"
    }
   ],
   "source": [
    "#### project 1\n",
    "import pandas as pd \n",
    "basit = {\n",
    "    \n",
    "}\n",
    "val = 1\n",
    "while val < 3:\n",
    "    print(\"student \" ,val)\n",
    "    name = str(input(\"Enter your name: \"))\n",
    "    arr_name = []\n",
    "    arr_name.append(name)\n",
    "    basit[\"name\"] = arr_name\n",
    "    mat_num = int(input(\"Enter your Matric Number: \"))\n",
    "    arr_mat_num = []\n",
    "    arr_mat_num.append(mat_num)\n",
    "    basit[\"Matric\"] = arr_mat_num\n",
    "    dept = str(input(\"Enter your Department: \"))\n",
    "    arr_dept = []\n",
    "    arr_dept.append(dept)\n",
    "    basit[\"Department\"] = arr_dept\n",
    "    level = int(input(\"Enter your Level: \"))\n",
    "    arr_level = []\n",
    "    arr_level.append(level)\n",
    "    basit[\"Level\"] = arr_level\n",
    "    val += 1\n",
    "\n",
    "print(basit)\n",
    "df = pd.DataFrame(basit)\n",
    "df.to_csv('sims.csv')\n",
    "df\n",
    "#arr.append(\"soup\")\n"
   ]
  },
  {
   "cell_type": "code",
   "execution_count": 17,
   "id": "22f36e39",
   "metadata": {},
   "outputs": [
    {
     "name": "stdout",
     "output_type": "stream",
     "text": [
      "{'brand': 'Ford', 'model': 'Mustang', 'year': 1964, 'color': 'green'}\n"
     ]
    }
   ],
   "source": []
  }
 ],
 "metadata": {
  "kernelspec": {
   "display_name": "Python 3 (ipykernel)",
   "language": "python",
   "name": "python3"
  },
  "language_info": {
   "codemirror_mode": {
    "name": "ipython",
    "version": 3
   },
   "file_extension": ".py",
   "mimetype": "text/x-python",
   "name": "python",
   "nbconvert_exporter": "python",
   "pygments_lexer": "ipython3",
   "version": "3.10.9"
  }
 },
 "nbformat": 4,
 "nbformat_minor": 5
}
