{
 "cells": [
  {
   "cell_type": "code",
   "execution_count": 10,
   "id": "234345a8",
   "metadata": {},
   "outputs": [
    {
     "name": "stdout",
     "output_type": "stream",
     "text": [
      "Welcome to the coupe\n",
      "Madiba:  Chubby Obiora-Okafo\n",
      "Blue-Jays:  Christopher Uweh\n",
      "Cirok:  Alexander\n",
      "TSG Walkers:  Ikechukwu\n",
      "\n",
      "\n",
      "Madiba:  Chubby Obiora-Okafo\n",
      "Blue-Jays:  Oladimeji Adaniwondea/Jeffery Awagu\n",
      "Cirok:  Timileyin Pearse/ Izuako Jeremy\n",
      "TSG Walkers:  Ayomide Ojituku\n"
     ]
    }
   ],
   "source": [
    "# Coupe foot ball picks\n",
    "print(\"Welcome to the coupe\")\n",
    "captain = {\n",
    "    \"Madiba: \": \"Chubby Obiora-Okafo\",\n",
    "    \"Blue-Jays: \": \"Christopher Uweh\",\n",
    "    \"Cirok: \": \"Alexander\",\n",
    "    \"TSG Walkers: \": \"Ikechukwu\"\n",
    "}\n",
    "\n",
    "goalkeepers = {\n",
    "    \"Madiba: \": \"Chubby Obiora-Okafo\",\n",
    "    \"Blue-Jays: \": \"Oladimeji Adaniwondea/Jeffery Awagu\",\n",
    "    \"Cirok: \": \"Timileyin Pearse/ Izuako Jeremy\",\n",
    "    \"TSG Walkers: \": \"Ayomide Ojituku\"\n",
    "}\n",
    "for pick in captain:\n",
    "    print(pick, captain[pick])\n",
    "    \n",
    "print(\"\\n\")\n",
    "\n",
    "for pick in goalkeepers:\n",
    "    print(pick, goalkeepers[pick])"
   ]
  },
  {
   "cell_type": "code",
   "execution_count": 2,
   "id": "5b7c5ce9",
   "metadata": {},
   "outputs": [
    {
     "name": "stdout",
     "output_type": "stream",
     "text": [
      "enter city 1: Kaduna\n",
      "enter city 2: Oyo\n",
      "the name of city 1 after swapping is Oyo\n",
      "the name of city 2 after swapping is Kaduna\n"
     ]
    }
   ],
   "source": [
    "#Phyton programm to swap the names \n",
    "city1 = str(input(\"enter city 1: \"))\n",
    "city2 = str(input(\"enter city 2: \"))\n",
    "\n",
    "temp = city1\n",
    "city1 = city2\n",
    "city2 = temp\n",
    "print(f\"the name of city 1 after swapping is {city1}\")\n",
    "print(f\"the name of city 2 after swapping is {city2}\")"
   ]
  },
  {
   "cell_type": "code",
   "execution_count": 5,
   "id": "f1c07207",
   "metadata": {},
   "outputs": [
    {
     "name": "stdout",
     "output_type": "stream",
     "text": [
      "enter a number: -3\n",
      "negative\n"
     ]
    }
   ],
   "source": [
    "#Program to check if a number is positive, neagtive of 0\n",
    "num = float(input(\"enter a number: \"))\n",
    "if num > 0:\n",
    "    print(\"Positive number\")\n",
    "elif num == 0:\n",
    "    print(\"zero\")\n",
    "else:\n",
    "    print(\"negative\")"
   ]
  }
 ],
 "metadata": {
  "kernelspec": {
   "display_name": "Python 3 (ipykernel)",
   "language": "python",
   "name": "python3"
  },
  "language_info": {
   "codemirror_mode": {
    "name": "ipython",
    "version": 3
   },
   "file_extension": ".py",
   "mimetype": "text/x-python",
   "name": "python",
   "nbconvert_exporter": "python",
   "pygments_lexer": "ipython3",
   "version": "3.10.9"
  }
 },
 "nbformat": 4,
 "nbformat_minor": 5
}
