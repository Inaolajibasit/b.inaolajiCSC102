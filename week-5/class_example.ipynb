{
 "cells": [
  {
   "cell_type": "code",
   "execution_count": 5,
   "id": "3d1ce000",
   "metadata": {},
   "outputs": [
    {
     "name": "stdout",
     "output_type": "stream",
     "text": [
      "1.0\n",
      "2.0\n",
      "3.0\n",
      "4.0\n",
      "5.0\n"
     ]
    }
   ],
   "source": [
    "#for loop \n",
    "#example1\n",
    "count = [10,20,30,40,50]\n",
    "for num in count:\n",
    "    print(num / 10)"
   ]
  },
  {
   "cell_type": "code",
   "execution_count": 9,
   "id": "61c21c67",
   "metadata": {},
   "outputs": [
    {
     "name": "stdout",
     "output_type": "stream",
     "text": [
      "0\n",
      "10\n",
      "20\n",
      "30\n",
      "40\n"
     ]
    }
   ],
   "source": [
    "#example 2\n",
    "for num in range(5):\n",
    "    if num >= 0:\n",
    "        print(num * 10)\n",
    "       "
   ]
  },
  {
   "cell_type": "code",
   "execution_count": 13,
   "id": "f4845187",
   "metadata": {
    "scrolled": true
   },
   "outputs": [
    {
     "name": "stdout",
     "output_type": "stream",
     "text": [
      "1\n",
      "2\n",
      "3\n",
      "4\n",
      "5\n"
     ]
    }
   ],
   "source": [
    "#While Loop\n",
    "#Example1\n",
    "count = 1\n",
    "while count <= 5:\n",
    "    print(count)\n",
    "    count += 1"
   ]
  },
  {
   "cell_type": "code",
   "execution_count": null,
   "id": "a9d9bbac",
   "metadata": {},
   "outputs": [],
   "source": []
  },
  {
   "cell_type": "code",
   "execution_count": 19,
   "id": "5f8c721d",
   "metadata": {},
   "outputs": [
    {
     "name": "stdout",
     "output_type": "stream",
     "text": [
      "Enter number to find their sum, negative number end the loop\n",
      "1\n",
      "-2\n",
      "Sum = 1\n"
     ]
    }
   ],
   "source": [
    "#example of break statement\n",
    "entry = 0\n",
    "sum1 = 0\n",
    "print(\"Enter number to find their sum, negative number end the loop\")\n",
    "while True:\n",
    "    entry = int(input())\n",
    "    if entry < 0:\n",
    "        break\n",
    "    sum1 += entry\n",
    "print(\"Sum =\", sum1)"
   ]
  },
  {
   "cell_type": "code",
   "execution_count": 27,
   "id": "a58674f0",
   "metadata": {},
   "outputs": [
    {
     "name": "stdout",
     "output_type": "stream",
     "text": [
      "Num has value 1\n",
      "Num has value 2\n",
      "Num has value 4\n",
      "Num has value 5\n",
      "Num has value 6\n",
      "End of Loop\n"
     ]
    }
   ],
   "source": [
    "#example of Continue statement\n",
    "num = 0\n",
    "for num in range(6):\n",
    "    num += 1\n",
    "    if num == 3:\n",
    "        continue\n",
    "    print(\"Num has value \" + str(num))\n",
    "print(\"End of Loop\")"
   ]
  },
  {
   "cell_type": "code",
   "execution_count": 30,
   "id": "6e4f7681",
   "metadata": {},
   "outputs": [
    {
     "name": "stdout",
     "output_type": "stream",
     "text": [
      "Iteration1of outer loop\n",
      "1\n",
      "2\n",
      "out of the inner loop\n",
      "Iteration2of outer loop\n",
      "1\n",
      "2\n",
      "out of the inner loop\n",
      "Iteration3of outer loop\n",
      "1\n",
      "2\n",
      "out of the inner loop\n",
      "Out of th outer loop\n"
     ]
    }
   ],
   "source": [
    "# nested loops \n",
    "for var1 in range(3):\n",
    "    print(\"Iteration\" + str(var1 + 1) + \"of outer loop\")\n",
    "    for var2 in range(2):\n",
    "        print(var2 + 1)\n",
    "    print(\"out of the inner loop\")\n",
    "print(\"Out of th outer loop\")"
   ]
  },
  {
   "cell_type": "code",
   "execution_count": null,
   "id": "83e63ce6",
   "metadata": {},
   "outputs": [],
   "source": []
  }
 ],
 "metadata": {
  "kernelspec": {
   "display_name": "Python 3 (ipykernel)",
   "language": "python",
   "name": "python3"
  },
  "language_info": {
   "codemirror_mode": {
    "name": "ipython",
    "version": 3
   },
   "file_extension": ".py",
   "mimetype": "text/x-python",
   "name": "python",
   "nbconvert_exporter": "python",
   "pygments_lexer": "ipython3",
   "version": "3.10.9"
  }
 },
 "nbformat": 4,
 "nbformat_minor": 5
}
