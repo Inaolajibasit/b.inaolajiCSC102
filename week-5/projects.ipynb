{
 "cells": [
  {
   "cell_type": "code",
   "execution_count": 3,
   "id": "708b50b6",
   "metadata": {},
   "outputs": [
    {
     "name": "stdout",
     "output_type": "stream",
     "text": [
      " Name  |  Age  |  Height  |  Score  \n",
      "\n",
      " Samantha    |    17    |    5.5    |    80 \n",
      "\n",
      "\n",
      " Charles    |    19    |    5.7    |    74 \n",
      "\n",
      "\n",
      " Jada    |    16    |    6.0    |    85 \n",
      "\n",
      "\n",
      " Jude    |    16    |    5.9    |    87 \n",
      "\n",
      "\n",
      " Jane    |    17    |    5.4    |    70 \n",
      "\n",
      "\n",
      " James    |    18    |    5.8    |    75 \n",
      "\n",
      "\n",
      " Claire    |    18    |    5.9    |    60 \n",
      "\n",
      "\n",
      " Kelvin    |    17    |    6.1    |    68 \n",
      "\n",
      "\n",
      " Elizabeth    |    16    |    5.6    |    76 \n",
      "\n",
      "\n",
      " Biodun    |    20    |    5.9    |    66 \n",
      "\n",
      "\n",
      " Mary    |    18    |    5.5    |    66 \n",
      "\n",
      "\n",
      " Wale    |    19    |    5.5    |    78 \n",
      "\n",
      "\n",
      " Susan    |    17    |    6.1    |    87 \n",
      "\n",
      "\n",
      " Kunle    |    16    |    61    |    87 \n",
      "\n",
      "\n",
      " Waje    |    20    |    6.0    |    95 \n",
      "\n",
      "\n",
      " Matthew    |    18    |    5.4    |    98 \n",
      "\n",
      "\n",
      " Taibat    |    19    |    5.7    |    50 \n",
      "\n",
      "\n",
      " Tom    |    17    |    5.8    |    54 \n",
      "\n",
      "\n",
      " Lilian    |    17    |    5.5    |    49 \n",
      "\n",
      "\n",
      " Kayode    |    19    |    5.7    |    60 \n",
      "\n"
     ]
    }
   ],
   "source": [
    "#Project 1\n",
    "girls = [\"Samantha\", \"Jada\", \"Jane\", \"Claire\", \"Elizabeth\", \"Mary\", \n",
    "         \"Susan\", \"Waje\", \"Taibat\" ,\"Lilian\"]\n",
    "age = [17,16,17,18,16,18,17,20,19,17]\n",
    "height = [5.5,6.0,5.4,5.9,5.6,5.5,6.1,6.0,5.7,5.5]\n",
    "score = [80,85,70,60,76,66,87,95,50,49]\n",
    "\n",
    "boys = [\"Charles\", \"Jude\", \"James\", \"Kelvin\", \n",
    "        \"Biodun\", \"Wale\", \"Kunle\", \"Matthew\", \"Tom\", \"Kayode\"]\n",
    "bage = [19,16,18,17,20,19,16,18,17,19]\n",
    "bheight = [5.7,5.9,5.8,6.1,5.9,5.5,61,5.4,5.8,5.7]\n",
    "bscore = [74,87,75,68,66,78,87,98,54,60]\n",
    "\n",
    "print(\" Name  |  Age  |  Height  |  Score  \")\n",
    "\n",
    "for val in range(10):\n",
    "    print(\"\\n\",girls[val], \"   |   \" ,age[val], \"   |   \", height[val], \"   |   \", score[val], \"\\n\")\n",
    "    print(\"\\n\",boys[val], \"   |   \" ,bage[val], \"   |   \", bheight[val], \"   |   \", bscore[val], \"\\n\")\n",
    "\n"
   ]
  },
  {
   "cell_type": "code",
   "execution_count": 3,
   "id": "5b89b544",
   "metadata": {},
   "outputs": [
    {
     "name": "stdout",
     "output_type": "stream",
     "text": [
      "Full-stack Developer, welcome to the one of the top four FinTechs in Nigeria\n",
      "enter your name: bob\n",
      "enter your years of Experience: 50\n",
      "enter your Age: 2\n",
      "Your annual tax revenue (ATR) is: 550000  Naira \n",
      "Thank You!!!!!\n"
     ]
    }
   ],
   "source": [
    "#Project 2\n",
    "print(\"Full-stack Developer, welcome to the one of the top four FinTechs in Nigeria\")\n",
    "\n",
    "name = str(input(\"enter your name: \"))\n",
    "exp = int(input(\"enter your years of Experience: \"))\n",
    "age = int(input(\"enter your Age: \"))\n",
    "a_tax = 0\n",
    "if exp > 25 and age >= 55:\n",
    "    a_tax = 5600000\n",
    "    print(f\"Your annual tax revenue (ATR) is: {a_tax} Naira \")\n",
    "elif exp > 20 and age >= 45:\n",
    "    a_tax = 4480000\n",
    "    print(f\"Your annual tax revenue (ATR) is: {a_tax}  Naira \")\n",
    "elif exp > 10 and age >= 35:\n",
    "    a_tax = 1500000\n",
    "    print(f\"Your annual tax revenue (ATR) is: {a_tax}  Naira \")\n",
    "else:\n",
    "    a_tax = 550000\n",
    "    print(f\"Your annual tax revenue (ATR) is: {a_tax}  Naira \")\n",
    "print(\"Thank You!!!!!\")    \n",
    "    \n"
   ]
  }
 ],
 "metadata": {
  "kernelspec": {
   "display_name": "Python 3 (ipykernel)",
   "language": "python",
   "name": "python3"
  },
  "language_info": {
   "codemirror_mode": {
    "name": "ipython",
    "version": 3
   },
   "file_extension": ".py",
   "mimetype": "text/x-python",
   "name": "python",
   "nbconvert_exporter": "python",
   "pygments_lexer": "ipython3",
   "version": "3.10.9"
  }
 },
 "nbformat": 4,
 "nbformat_minor": 5
}
