{
 "cells": [
  {
   "cell_type": "code",
   "execution_count": 1,
   "id": "6510aaeb",
   "metadata": {},
   "outputs": [
    {
     "name": "stdout",
     "output_type": "stream",
     "text": [
      "Enter your state of Origin:bddd\n",
      "Ypur state of origin is: bddd\n",
      "the first Letter b\n",
      "the character strating from the 3rd to 5th are dd\n",
      "the string strating from the 3rd character dd\n",
      "State of origin two times bdddbddd\n"
     ]
    }
   ],
   "source": [
    "str = input(\"Enter your state of Origin:\")\n",
    "\n",
    "print(\"Ypur state of origin is:\", str)\n",
    "print(\"the first Letter\",str[0])\n",
    "print(\"the character strating from the 3rd to 5th are\", str[2:6])\n",
    "print(\"the string strating from the 3rd character\", str[2:])\n",
    "print(\"State of origin two times\", str * 2)"
   ]
  },
  {
   "cell_type": "code",
   "execution_count": 3,
   "id": "f7a89fdc",
   "metadata": {},
   "outputs": [
    {
     "name": "stdout",
     "output_type": "stream",
     "text": [
      "Enter a decimal bro23.4\n",
      "the energy of 23.4kg is 2.098034558657688e+20J\n"
     ]
    }
   ],
   "source": [
    "#input from user \n",
    "m = float(input(\"Enter a mass in kg\"))\n",
    "\n",
    "#constant value for speed of light in m/s\n",
    "c = 2994321234\n",
    "\n",
    "#calculate the energy \n",
    "energy = m * c ** 2\n",
    "\n",
    "#displaying the results \n",
    "print(f\"the energy of {m}kg is {energy}J\")"
   ]
  },
  {
   "cell_type": "code",
   "execution_count": 5,
   "id": "1967622c",
   "metadata": {},
   "outputs": [
    {
     "name": "stdout",
     "output_type": "stream",
     "text": [
      "['Anoconda', 783, 2.23, 'Jupyter', 80.3]\n",
      "Anoconda\n",
      "[783, 2.23]\n",
      "[2.23, 'Jupyter', 80.3]\n",
      "[323, 'Phython', 323, 'Phython']\n",
      "['Anoconda', 783, 2.23, 'Jupyter', 80.3, 323, 'Phython']\n"
     ]
    }
   ],
   "source": [
    "list = ['Anoconda', 783, 2.23, 'Jupyter', 80.3]\n",
    "shortlist = [323, 'Phython']\n",
    "\n",
    "print(list)       \n",
    "print(list[0])\n",
    "print(list[1:3])\n",
    "print(list[2:])\n",
    "print(shortlist * 2)\n",
    "print( list + shortlist)"
   ]
  },
  {
   "cell_type": "code",
   "execution_count": 8,
   "id": "12c7738f",
   "metadata": {},
   "outputs": [
    {
     "name": "stdout",
     "output_type": "stream",
     "text": [
      "('ekiti', 233, 'Ikotun', 259, 'akure', 500)\n",
      "500\n",
      "('Ikotun', 259)\n",
      "(259, 'akure', 500)\n",
      "('Adeolu', 300, 'Dumade', 'Adeolu', 300, 'Dumade', 'Adeolu', 300, 'Dumade')\n",
      "('ekiti', 233, 'Ikotun', 259, 'akure', 500, 'Adeolu', 300, 'Dumade')\n"
     ]
    }
   ],
   "source": [
    "tuple = (\"ekiti\", 233, \"Ikotun\", 259, \"akure\", 500)\n",
    "s_turple = (\"Adeolu\", 300, \"Dumade\")\n",
    "\n",
    "#Print the complete turple\n",
    "print(tuple)\n",
    "#Print the elements in the tuple\n",
    "print(tuple[-1])\n",
    "#Print the elements of the tuple starting from 2nd to 3rd\n",
    "print(tuple[2:4])\n",
    "#Print the elements of the tuple starting from 3rd\n",
    "print(tuple[3:])\n",
    "#print tuplke twice\n",
    "print(s_turple * 3)\n",
    "#print concatenated tuple\n",
    "print (tuple + s_turple)\n",
    "\n"
   ]
  },
  {
   "cell_type": "code",
   "execution_count": 10,
   "id": "cc297463",
   "metadata": {},
   "outputs": [
    {
     "name": "stdout",
     "output_type": "stream",
     "text": [
      "False\n",
      "False\n",
      "False\n",
      "False\n",
      "True\n"
     ]
    }
   ],
   "source": [
    "#return faalse as game_1 is not equal to game_2\n",
    "game_1 = 2\n",
    "game_2 = 4\n",
    "print(bool(game_1 == game_2))\n",
    "#or\n",
    "print(game_1 == game_2)\n",
    "\n",
    "#return false as val is None\n",
    "val = None\n",
    "print(bool(val))\n",
    "#return false as num is an empty sequence\n",
    "num = ()\n",
    "print(bool(num))\n",
    "#return true as age is boolean\n",
    "age = True \n",
    "print(bool(age))"
   ]
  },
  {
   "cell_type": "code",
   "execution_count": 11,
   "id": "d4316750",
   "metadata": {},
   "outputs": [
    {
     "name": "stdout",
     "output_type": "stream",
     "text": [
      "Grade = 70\n",
      "GPA = 4\n",
      "CGPA = 4\n"
     ]
    }
   ],
   "source": [
    "#convert to int\n",
    "\n",
    "grade = int(70)\n",
    "gpa =int(4.9)\n",
    "cgpa = int(\"4\")\n",
    "\n",
    "print(f\"Grade = {grade}\")\n",
    "print(f\"GPA = {gpa}\")\n",
    "print(f\"CGPA = {cgpa}\")"
   ]
  },
  {
   "cell_type": "code",
   "execution_count": 12,
   "id": "d9fa0bd4",
   "metadata": {},
   "outputs": [
    {
     "name": "stdout",
     "output_type": "stream",
     "text": [
      "Grade 97.0\n",
      "GPA 5.0\n",
      "cgpa 4.7\n"
     ]
    }
   ],
   "source": [
    "#convert to flaot\n",
    "\n",
    "grade = float(97)\n",
    "gpa = float(5)\n",
    "cgpa = float('4.7')\n",
    "\n",
    "print(f\"Grade {grade}\")\n",
    "print(f\"GPA {gpa}\")\n",
    "print(f\"cgpa {cgpa}\")\n"
   ]
  }
 ],
 "metadata": {
  "kernelspec": {
   "display_name": "Python 3 (ipykernel)",
   "language": "python",
   "name": "python3"
  },
  "language_info": {
   "codemirror_mode": {
    "name": "ipython",
    "version": 3
   },
   "file_extension": ".py",
   "mimetype": "text/x-python",
   "name": "python",
   "nbconvert_exporter": "python",
   "pygments_lexer": "ipython3",
   "version": "3.10.9"
  }
 },
 "nbformat": 4,
 "nbformat_minor": 5
}
