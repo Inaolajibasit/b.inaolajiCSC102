{
 "cells": [
  {
   "cell_type": "code",
   "execution_count": 2,
   "id": "20f5199d",
   "metadata": {},
   "outputs": [
    {
     "name": "stdout",
     "output_type": "stream",
     "text": [
      "Enter your state of Origin:Ibadan\n",
      "Ypur state of origin is: Ibadan\n",
      "the first Letter I\n",
      "the character strating from the 3rd to 5th are adan\n",
      "the string strating from the 3rd character adan\n",
      "State of origin two times IbadanIbadan\n"
     ]
    }
   ],
   "source": [
    "str = input(\"Enter your state of Origin:\")\n",
    "\n",
    "print(\"Ypur state of origin is:\", str)\n",
    "print(\"the first Letter\",str[0])\n",
    "print(\"the character strating from the 3rd to 5th are\", str[2:6])\n",
    "print(\"the string strating from the 3rd character\", str[2:])\n",
    "print(\"State of origin two times\", str * 2)"
   ]
  },
  {
   "cell_type": "code",
   "execution_count": 3,
   "id": "8c77ac87",
   "metadata": {},
   "outputs": [
    {
     "name": "stdout",
     "output_type": "stream",
     "text": [
      "Enter a decimal bro23.4\n",
      "the energy of 23.4kg is 2.098034558657688e+20J\n"
     ]
    }
   ],
   "source": [
    "#input from user \n",
    "m = float(input(\"Enter a mass in kg\"))\n",
    "\n",
    "#constant value for speed of light in m/s\n",
    "c = 2994321234\n",
    "\n",
    "#calculate the energy \n",
    "energy = m * c ** 2\n",
    "\n",
    "#displaying the results \n",
    "print(f\"the energy of {m}kg is {energy}J\")"
   ]
  }
 ],
 "metadata": {
  "kernelspec": {
   "display_name": "Python 3 (ipykernel)",
   "language": "python",
   "name": "python3"
  },
  "language_info": {
   "codemirror_mode": {
    "name": "ipython",
    "version": 3
   },
   "file_extension": ".py",
   "mimetype": "text/x-python",
   "name": "python",
   "nbconvert_exporter": "python",
   "pygments_lexer": "ipython3",
   "version": "3.10.9"
  }
 },
 "nbformat": 4,
 "nbformat_minor": 5
}
