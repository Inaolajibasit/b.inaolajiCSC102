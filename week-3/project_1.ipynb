{
 "cells": [
  {
   "cell_type": "code",
   "execution_count": 12,
   "id": "af60587e",
   "metadata": {},
   "outputs": [
    {
     "name": "stdout",
     "output_type": "stream",
     "text": [
      "Enter name basit\n",
      "Ehter age 19\n",
      "Your name is basit and your age is 19 \n",
      "Enter second name yj\n",
      "Ehter second age 16\n",
      "Your second name is yj and your second age is 16 \n",
      "new age1 is 16\n",
      "new age2 is 19\n",
      "['19', '16']\n"
     ]
    }
   ],
   "source": [
    "name1 = input(\"Enter name \")\n",
    "age1 = input(\"Ehter age \")\n",
    "print(f\"Your name is {name1} and your age is {age1} \")\n",
    "\n",
    "name2 = input(\"Enter second name \")\n",
    "age2 = input(\"Ehter second age \")\n",
    "print(f\"Your second name is {name2} and your second age is {age2} \")\n",
    "\n",
    "list = [age1, age2]\n",
    "age1 = list[1]\n",
    "age2 = list[0]\n",
    "print(f\"new age1 is {age1}\")\n",
    "print(f\"new age2 is {age2}\")"
   ]
  },
  {
   "cell_type": "code",
   "execution_count": 1,
   "id": "951f9979",
   "metadata": {
    "scrolled": false
   },
   "outputs": [
    {
     "name": "stdout",
     "output_type": "stream",
     "text": [
      "enter your A value 5\n",
      "enter your b value 6\n",
      "enter your c value 7\n",
      "enter your d value 8\n",
      "\n",
      "your equation is 5x^3 6x^2 7x 8\n",
      "\n",
      "your new equation is 1.0x^3 1.2x^2 1.4x 1.6\n",
      "\n",
      "the roots of the equation are\n",
      "Frist root -0.7893333333333332\n",
      "Second root  0.14580590604628768\n",
      "Third root -0.5564725727129542\n"
     ]
    }
   ],
   "source": [
    "import math\n",
    "\n",
    "a = int(input(\"enter your A value \"))\n",
    "b = int(input(\"enter your b value \"))\n",
    "c = int(input(\"enter your c value \"))\n",
    "d = int(input(\"enter your d value \"))\n",
    "print(\"\")\n",
    "print(f\"your equation is {a}x^3 {b}x^2 {c}x {d}\")\n",
    "b = b / a #a1\n",
    "c = c / a #a2\n",
    "d = d / a #a3\n",
    "a = a / a\n",
    "print(\"\")\n",
    "print(f\"your new equation is {a}x^3 {b}x^2 {c}x {d}\")\n",
    "q = (3*c - b**2) / 9\n",
    "r = (9*b*c - 27*d - 2*b**3) / 54\n",
    "s = (r + math.sqrt(q**3 + r**2))**1/3\n",
    "t = (r - math.sqrt(q**3 + r**2))**1/3\n",
    "\n",
    "# print(q)\n",
    "# print(r)\n",
    "# print(s)\n",
    "# print(t)\n",
    "\n",
    "r1 = s + t - (b/3)\n",
    "r2 = (-(s+t)/2) - (b/3) + ((math.sqrt(3) * (s-t))/2)\n",
    "r3 = (-(s+t)/2) - (b/3) - ((math.sqrt(3) * (s-t))/2)\n",
    "print(\"\")\n",
    "print(\"the roots of the equation are\")\n",
    "print(f\"Frist root {r1}\")\n",
    "print(f\"Second root  {r2}\")\n",
    "print(f\"Third root {r3}\")"
   ]
  },
  {
   "cell_type": "code",
   "execution_count": null,
   "id": "7742987e",
   "metadata": {},
   "outputs": [],
   "source": []
  }
 ],
 "metadata": {
  "kernelspec": {
   "display_name": "Python 3 (ipykernel)",
   "language": "python",
   "name": "python3"
  },
  "language_info": {
   "codemirror_mode": {
    "name": "ipython",
    "version": 3
   },
   "file_extension": ".py",
   "mimetype": "text/x-python",
   "name": "python",
   "nbconvert_exporter": "python",
   "pygments_lexer": "ipython3",
   "version": "3.10.9"
  }
 },
 "nbformat": 4,
 "nbformat_minor": 5
}
