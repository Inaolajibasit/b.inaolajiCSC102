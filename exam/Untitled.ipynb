{
 "cells": [
  {
   "cell_type": "code",
   "execution_count": 84,
   "metadata": {},
   "outputs": [
    {
     "name": "stdout",
     "output_type": "stream",
     "text": [
      "1\n",
      "9\n"
     ]
    }
   ],
   "source": [
    "number = [1,2,4,6,11,20]\n",
    "sq = 0\n",
    "for val in range(1,12,8):\n",
    "    #sq = val * val\n",
    "    print(val)\n",
    "    #print(sq)\n"
   ]
  },
  {
   "cell_type": "code",
   "execution_count": 111,
   "metadata": {},
   "outputs": [
    {
     "name": "stdout",
     "output_type": "stream",
     "text": [
      "5\n"
     ]
    },
    {
     "data": {
      "text/plain": [
       "{'monday': 'math',\n",
       " 'tuesday': 'english',\n",
       " 'Wednesday': 'chemistry',\n",
       " 'friday': 'biology',\n",
       " 'saturday': 'Fencch'}"
      ]
     },
     "execution_count": 111,
     "metadata": {},
     "output_type": "execute_result"
    }
   ],
   "source": [
    "data = {1:\"basit\",\n",
    "        2:\"sam\",\n",
    "        3:\"david\"\n",
    "       }\n",
    "a = [\"monday\",\"tuesday\",\"Wednesday\", \"friday\",\"saturday\"]\n",
    "b = [\"math\",\"english\",\"chemistry\",\"biology\",\"Fencch\" ]\n",
    "\n",
    "\n",
    "data = dict(zip(a,b))\n",
    "print(len(data))\n",
    "data"
   ]
  },
  {
   "cell_type": "code",
   "execution_count": 103,
   "metadata": {},
   "outputs": [
    {
     "name": "stdout",
     "output_type": "stream",
     "text": [
      "1\n",
      "81\n"
     ]
    }
   ],
   "source": [
    "def printDict():\n",
    "    d = dict()\n",
    "    for i in range(1,12,8):\n",
    "        d[i] = i**2\n",
    "        print(d[i])\n",
    "printDict()        "
   ]
  },
  {
   "cell_type": "code",
   "execution_count": 108,
   "metadata": {},
   "outputs": [
    {
     "name": "stdout",
     "output_type": "stream",
     "text": [
      "3\n"
     ]
    }
   ],
   "source": [
    "a = 3 & 67\n",
    "print(a)"
   ]
  },
  {
   "cell_type": "code",
   "execution_count": 27,
   "metadata": {},
   "outputs": [
    {
     "name": "stdout",
     "output_type": "stream",
     "text": [
      "3 and 10\n",
      "3 and 13\n"
     ]
    }
   ],
   "source": [
    "for num1 in range(3,5,2):\n",
    "    for num2 in range(10,14,3):\n",
    "        print(num1, \"and\", num2)"
   ]
  },
  {
   "cell_type": "code",
   "execution_count": 24,
   "metadata": {},
   "outputs": [
    {
     "name": "stdout",
     "output_type": "stream",
     "text": [
      "7\n"
     ]
    }
   ],
   "source": [
    "bob = [1,2,3,4,5,5,6,-609]\n",
    "def bank(x):\n",
    "    x = x + [5]\n",
    "    c = [3,2,3,4,7]\n",
    "c=[3,2,3,4,7]\n",
    "bank(c)\n",
    "print(len(c)+min(c))"
   ]
  },
  {
   "cell_type": "code",
   "execution_count": 83,
   "metadata": {},
   "outputs": [
    {
     "name": "stdout",
     "output_type": "stream",
     "text": [
      "7\n"
     ]
    }
   ],
   "source": [
    "print(23//3)"
   ]
  },
  {
   "cell_type": "code",
   "execution_count": 81,
   "metadata": {},
   "outputs": [
    {
     "data": {
      "text/plain": [
       "array([ 8,  9, 10])"
      ]
     },
     "execution_count": 81,
     "metadata": {},
     "output_type": "execute_result"
    }
   ],
   "source": [
    "# numpy \n",
    "import numpy as np\n",
    "c = [[1,2,3,4,5],[2,4,6,8,10]]\n",
    "#a = np.array(c)\n",
    "#a = np.random.randint(10, size= 9)\n",
    "a = np.array([1,2,3,4,5,6,7,8,9,10])\n",
    "#print(np.argmax(a))\n",
    "a[ a > 7]"
   ]
  }
 ],
 "metadata": {
  "kernelspec": {
   "display_name": "Python 3",
   "language": "python",
   "name": "python3"
  },
  "language_info": {
   "codemirror_mode": {
    "name": "ipython",
    "version": 3
   },
   "file_extension": ".py",
   "mimetype": "text/x-python",
   "name": "python",
   "nbconvert_exporter": "python",
   "pygments_lexer": "ipython3",
   "version": "3.8.5"
  }
 },
 "nbformat": 4,
 "nbformat_minor": 4
}
